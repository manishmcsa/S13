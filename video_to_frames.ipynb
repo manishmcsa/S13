{
  "nbformat": 4,
  "nbformat_minor": 0,
  "metadata": {
    "colab": {
      "name": "video_to_frames.ipynb",
      "provenance": [],
      "collapsed_sections": [],
      "authorship_tag": "ABX9TyNImAnK7e/C8dPSRR0ikNxb",
      "include_colab_link": true
    },
    "kernelspec": {
      "name": "python3",
      "display_name": "Python 3"
    },
    "language_info": {
      "name": "python"
    }
  },
  "cells": [
    {
      "cell_type": "markdown",
      "metadata": {
        "id": "view-in-github",
        "colab_type": "text"
      },
      "source": [
        "<a href=\"https://colab.research.google.com/github/manishmcsa/S13/blob/main/video_to_frames.ipynb\" target=\"_parent\"><img src=\"https://colab.research.google.com/assets/colab-badge.svg\" alt=\"Open In Colab\"/></a>"
      ]
    },
    {
      "cell_type": "code",
      "metadata": {
        "colab": {
          "base_uri": "https://localhost:8080/"
        },
        "id": "UljdWlI_wAYY",
        "outputId": "3785cd37-f68d-4bee-a8bc-23acccf5264e"
      },
      "source": [
        "from google.colab import drive\n",
        "drive.mount('/content/gdrive')"
      ],
      "execution_count": 1,
      "outputs": [
        {
          "output_type": "stream",
          "text": [
            "Mounted at /content/gdrive\n"
          ],
          "name": "stdout"
        }
      ]
    },
    {
      "cell_type": "code",
      "metadata": {
        "colab": {
          "base_uri": "https://localhost:8080/"
        },
        "id": "lIUbJbvPzOQg",
        "outputId": "b88308a7-0f19-4038-a32e-7aa20bdb0557"
      },
      "source": [
        "%cd \"/content/gdrive/MyDrive/Yolo\""
      ],
      "execution_count": 2,
      "outputs": [
        {
          "output_type": "stream",
          "text": [
            "/content/gdrive/MyDrive/Yolo\n"
          ],
          "name": "stdout"
        }
      ]
    },
    {
      "cell_type": "code",
      "metadata": {
        "id": "u4bMj-1IzdB2"
      },
      "source": [
        "import cv2\n",
        "import numpy as np\n",
        "import os\n",
        "from PIL import Image"
      ],
      "execution_count": 4,
      "outputs": []
    },
    {
      "cell_type": "code",
      "metadata": {
        "id": "m6QKdqMUzTk_"
      },
      "source": [
        "vidcap=cv2.VideoCapture('PPE_video.mp4')"
      ],
      "execution_count": 5,
      "outputs": []
    },
    {
      "cell_type": "code",
      "metadata": {
        "id": "cwL38oHdzmku"
      },
      "source": [
        "def video_to_frames(video, path_output_dir):\n",
        "        # extract frames from a video and save to directory as 'x.png' where \\n\n",
        "        # x is the frame index\n",
        "        vidcap = cv2.VideoCapture(video)\n",
        "        count = 0\n",
        "        while vidcap.isOpened():\n",
        "            success, image = vidcap.read()\n",
        "            if success:\n",
        "                cv2.imwrite(os.path.join(path_output_dir, '%d.png') % count, image)\n",
        "                count += 1\n",
        "            else:\n",
        "                break\n",
        "        cv2.destroyAllWindows()\n",
        "        vidcap.release()"
      ],
      "execution_count": 6,
      "outputs": []
    },
    {
      "cell_type": "code",
      "metadata": {
        "id": "QRU3DgGazroG"
      },
      "source": [
        "video_to_frames('/content/gdrive/MyDrive/Yolo/PPE_video.mp4',\"/content/gdrive/MyDrive/Yolo/frames\")"
      ],
      "execution_count": 7,
      "outputs": []
    }
  ]
}