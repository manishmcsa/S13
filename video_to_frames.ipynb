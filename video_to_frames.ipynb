{
  "nbformat": 4,
  "nbformat_minor": 0,
  "metadata": {
    "colab": {
      "name": "video_to_frames.ipynb",
      "provenance": [],
      "collapsed_sections": [],
      "authorship_tag": "ABX9TyOleU9GJNTrv3OQR/q08TLJ",
      "include_colab_link": true
    },
    "kernelspec": {
      "name": "python3",
      "display_name": "Python 3"
    },
    "language_info": {
      "name": "python"
    },
    "accelerator": "GPU"
  },
  "cells": [
    {
      "cell_type": "markdown",
      "metadata": {
        "id": "view-in-github",
        "colab_type": "text"
      },
      "source": [
        "<a href=\"https://colab.research.google.com/github/manishmcsa/S13/blob/main/video_to_frames.ipynb\" target=\"_parent\"><img src=\"https://colab.research.google.com/assets/colab-badge.svg\" alt=\"Open In Colab\"/></a>"
      ]
    },
    {
      "cell_type": "code",
      "metadata": {
        "colab": {
          "base_uri": "https://localhost:8080/"
        },
        "id": "UljdWlI_wAYY",
        "outputId": "f35590ec-dd98-48ba-c3a6-0a6026c26791"
      },
      "source": [
        "from google.colab import drive\n",
        "drive.mount('/content/gdrive')"
      ],
      "execution_count": 9,
      "outputs": [
        {
          "output_type": "stream",
          "text": [
            "Drive already mounted at /content/gdrive; to attempt to forcibly remount, call drive.mount(\"/content/gdrive\", force_remount=True).\n"
          ],
          "name": "stdout"
        }
      ]
    },
    {
      "cell_type": "code",
      "metadata": {
        "colab": {
          "base_uri": "https://localhost:8080/"
        },
        "id": "lIUbJbvPzOQg",
        "outputId": "f7ae8b75-df84-431e-fef6-271c3be282d6"
      },
      "source": [
        "%cd \"/content/gdrive/MyDrive/yolo_eva\""
      ],
      "execution_count": 10,
      "outputs": [
        {
          "output_type": "stream",
          "text": [
            "/content/gdrive/MyDrive/yolo_eva\n"
          ],
          "name": "stdout"
        }
      ]
    },
    {
      "cell_type": "code",
      "metadata": {
        "id": "u4bMj-1IzdB2"
      },
      "source": [
        "import cv2\n",
        "import numpy as np\n",
        "import os\n",
        "from PIL import Image"
      ],
      "execution_count": 11,
      "outputs": []
    },
    {
      "cell_type": "code",
      "metadata": {
        "id": "m6QKdqMUzTk_"
      },
      "source": [
        "vidcap=cv2.VideoCapture('/content/gdrive/MyDrive/yolo_eva/PPE_video.mp4')"
      ],
      "execution_count": 18,
      "outputs": []
    },
    {
      "cell_type": "code",
      "metadata": {
        "id": "cwL38oHdzmku"
      },
      "source": [
        "def video_to_frames(video, path_output_dir):\n",
        "        # extract frames from a video and save to directory as 'x.png' where \\n\n",
        "        # x is the frame index\n",
        "        vidcap = cv2.VideoCapture(video)\n",
        "        count = 0\n",
        "        while vidcap.isOpened():\n",
        "            success, image = vidcap.read()\n",
        "            if success:\n",
        "                cv2.imwrite(os.path.join(path_output_dir, '%d.png') % count, image)\n",
        "                count += 1\n",
        "            else:\n",
        "                break\n",
        "        cv2.destroyAllWindows()\n",
        "        vidcap.release()"
      ],
      "execution_count": 19,
      "outputs": []
    },
    {
      "cell_type": "code",
      "metadata": {
        "id": "QRU3DgGazroG"
      },
      "source": [
        "video_to_frames('/content/gdrive/MyDrive/yolo_eva/PPE_video.mp4',\"/content/gdrive/MyDrive/yolo_eva/YoloV3/data/customdata/images\")"
      ],
      "execution_count": 21,
      "outputs": []
    }
  ]
}