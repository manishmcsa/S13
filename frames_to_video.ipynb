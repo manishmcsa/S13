{
  "nbformat": 4,
  "nbformat_minor": 0,
  "metadata": {
    "colab": {
      "name": "frames_to_video.ipynb",
      "provenance": [],
      "collapsed_sections": [],
      "authorship_tag": "ABX9TyPeDjdwkMCzFDATs1vTGzHk",
      "include_colab_link": true
    },
    "kernelspec": {
      "name": "python3",
      "display_name": "Python 3"
    },
    "language_info": {
      "name": "python"
    }
  },
  "cells": [
    {
      "cell_type": "markdown",
      "metadata": {
        "id": "view-in-github",
        "colab_type": "text"
      },
      "source": [
        "<a href=\"https://colab.research.google.com/github/manishmcsa/S13/blob/main/frames_to_video.ipynb\" target=\"_parent\"><img src=\"https://colab.research.google.com/assets/colab-badge.svg\" alt=\"Open In Colab\"/></a>"
      ]
    },
    {
      "cell_type": "code",
      "metadata": {
        "colab": {
          "base_uri": "https://localhost:8080/"
        },
        "id": "EXdFajat9MQF",
        "outputId": "33f8711b-892d-4312-caae-9580c10066eb"
      },
      "source": [
        "from google.colab import drive\n",
        "drive.mount('/content/gdrive')"
      ],
      "execution_count": 1,
      "outputs": [
        {
          "output_type": "stream",
          "text": [
            "Mounted at /content/gdrive\n"
          ],
          "name": "stdout"
        }
      ]
    },
    {
      "cell_type": "code",
      "metadata": {
        "colab": {
          "base_uri": "https://localhost:8080/"
        },
        "id": "aoxENq9E9OHa",
        "outputId": "8a77fdd1-b85e-4c9b-925a-53f9fa2ffdc2"
      },
      "source": [
        "cd \"/content/gdrive/MyDrive/yolo_eva\""
      ],
      "execution_count": 5,
      "outputs": [
        {
          "output_type": "stream",
          "text": [
            "/content/gdrive/MyDrive/yolo_eva\n"
          ],
          "name": "stdout"
        }
      ]
    },
    {
      "cell_type": "code",
      "metadata": {
        "colab": {
          "base_uri": "https://localhost:8080/"
        },
        "id": "x5Smi7xu9X5R",
        "outputId": "e88541b9-9dd5-4363-953b-3f43c0ae757b"
      },
      "source": [
        "!pip install ffmpeg-python"
      ],
      "execution_count": 6,
      "outputs": [
        {
          "output_type": "stream",
          "text": [
            "Requirement already satisfied: ffmpeg-python in /usr/local/lib/python3.7/dist-packages (0.2.0)\n",
            "Requirement already satisfied: future in /usr/local/lib/python3.7/dist-packages (from ffmpeg-python) (0.16.0)\n"
          ],
          "name": "stdout"
        }
      ]
    },
    {
      "cell_type": "code",
      "metadata": {
        "id": "6Z_XjxCBHm4K"
      },
      "source": [
        "import ffmpeg"
      ],
      "execution_count": 8,
      "outputs": []
    },
    {
      "cell_type": "code",
      "metadata": {
        "id": "v2xuZNDsH1hh"
      },
      "source": [
        "from pathlib import Path\n",
        "from PIL import Image\n",
        "\n",
        "inputPath = Path(\"/content/gdrive/MyDrive/yolo_eva/YoloV3/output\")\n",
        "inputFiles = inputPath.glob(\"**/*.png\")\n",
        "outputPath = Path(\"/content/gdrive/MyDrive/yolo_eva/YoloV3/out_jpg\")\n",
        "for f in inputFiles:\n",
        "    outputFile = outputPath / Path(f.stem + \".jpg\")\n",
        "    im = Image.open(f)\n",
        "    im.save(outputFile)"
      ],
      "execution_count": 18,
      "outputs": []
    },
    {
      "cell_type": "code",
      "metadata": {
        "colab": {
          "base_uri": "https://localhost:8080/"
        },
        "id": "8nbiT_R0MBmR",
        "outputId": "9f5e18d6-43ba-4695-d969-ea989d09f434"
      },
      "source": [
        "cd \"/content/gdrive/MyDrive/yolo_eva\""
      ],
      "execution_count": 28,
      "outputs": [
        {
          "output_type": "stream",
          "text": [
            "/content/gdrive/MyDrive/yolo_eva\n"
          ],
          "name": "stdout"
        }
      ]
    },
    {
      "cell_type": "code",
      "metadata": {
        "colab": {
          "base_uri": "https://localhost:8080/"
        },
        "id": "zepnF0rM9a-R",
        "outputId": "4156db55-9baa-4493-e52f-e39e88de058e"
      },
      "source": [
        "(\n",
        "    ffmpeg\n",
        "    .input('/content/gdrive/MyDrive/yolo_eva/YoloV3/out_jpg/*.jpg', pattern_type='glob', framerate=25)\n",
        "    .output('movie.mp4')\n",
        "    .run()\n",
        ")"
      ],
      "execution_count": 31,
      "outputs": [
        {
          "output_type": "execute_result",
          "data": {
            "text/plain": [
              "(None, None)"
            ]
          },
          "metadata": {
            "tags": []
          },
          "execution_count": 31
        }
      ]
    }
  ]
}